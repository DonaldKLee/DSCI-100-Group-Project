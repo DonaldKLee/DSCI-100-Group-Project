{
 "cells": [
  {
   "cell_type": "markdown",
   "id": "cf83e26d-6fee-4f90-b040-2e36e8d8520f",
   "metadata": {},
   "source": [
    "# Title:\n",
    "\n"
   ]
  }
 ],
 "metadata": {
  "kernelspec": {
   "display_name": "R",
   "language": "R",
   "name": "ir"
  },
  "language_info": {
   "codemirror_mode": "r",
   "file_extension": ".r",
   "mimetype": "text/x-r-source",
   "name": "R",
   "pygments_lexer": "r",
   "version": "4.1.3"
  }
 },
 "nbformat": 4,
 "nbformat_minor": 5
}
