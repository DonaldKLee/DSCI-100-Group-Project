{
 "cells": [
  {
   "cell_type": "markdown",
   "id": "cf83e26d-6fee-4f90-b040-2e36e8d8520f",
   "metadata": {},
   "source": [
    "# Classifying Depression\n",
    "\n",
    "The National Institute of Mental Health describes depression as a “serious mood disorder”. Access to mental health services is challenging for people living in rural areas and they may not have the support they need. This may be due to their economic state, lack of education about these services, living at a distance from the services, friends and family, etc. The lack of access to mental health services may lead to increased rates of depression in people living in these areas.\n",
    "\n",
    "In this project, we will be creating a classification model to predict whether or not someone is likely to be depressed, based on their sex, age, whether or not they’re married, their level of education, the number of children they have, and how much money they make.\n",
    "\n",
    "For our project we extracted our data from *Kaggle*. The data comes from a study that was conducted on people living in rural areas."
   ]
  },
  {
   "cell_type": "markdown",
   "id": "595ffdec-c846-4ea2-afa2-090a64a245ec",
   "metadata": {},
   "source": [
    "### Methods\n",
    "\n",
    "For our analysis, we will be using the following columns from the dataset:\n",
    "- sex\n",
    "- Age\n",
    "- married\n",
    "- education_level\n",
    "- number_of_children\n",
    "- gained_asset\n",
    "- durable_asset\n",
    "- save_asset\n",
    "- depressed\n",
    "\n",
    "To analyze the total assets, we will be using **mutate** function to add the following columns into one *asset* column:\n",
    "- gained_asset\n",
    "- durable_asset\n",
    "- save_asset\n",
    "\n",
    "In our project, we will train our model to classify from the given data, whether or not someone is at risk of depression.\n",
    "\n",
    "We will primarily be using scatterplots to visualize our data. First we will creating **scatterplots** of the data using each *predictor* (variable), to identify how much each predictor contributes to the classification. To do so, we will also be scaling our data accordingly. Lastly, we will use all our predictors to create a scatterplot, to classify whether or not someone is at risk of depression. "
   ]
  },
  {
   "cell_type": "markdown",
   "id": "fef445b8-287b-4ab7-9c6c-2835f5b56559",
   "metadata": {},
   "source": [
    "### Expected outcomes and significance\n",
    "\n",
    "An accurate estimate of the vulnerability to depression can be obtained by using the model built. By specifying the factors listed above as variables into the model, we predict whether one could be at risk of depression based on observations from the study in the rural communities.\n",
    "\n",
    "We expect depression to be more common in women than in men. We also expect to find people with a lower income to be more at-risk of depression.\n",
    "\n",
    "*Impacts of our findings:*\n",
    "- It helps incorporate preventive measures that the most vulnerable population could take to reduce the risk of depression (if there are any).\n",
    "- Enhancing clinical support to the at-risk population by finding out their real struggles.\n",
    "\n",
    "*Future questions our model could reach to:*\n",
    "- What are some actions that could be taken in general to avoid depression and improve well-being (in relation to each column that are found closely correlated with mental illness)?\n",
    "- How could the government increase accessibility of the rural community to medical support, especially patients diagnosed with depression?"
   ]
  }
 ],
 "metadata": {
  "kernelspec": {
   "display_name": "R",
   "language": "R",
   "name": "ir"
  },
  "language_info": {
   "codemirror_mode": "r",
   "file_extension": ".r",
   "mimetype": "text/x-r-source",
   "name": "R",
   "pygments_lexer": "r",
   "version": "4.1.3"
  }
 },
 "nbformat": 4,
 "nbformat_minor": 5
}
